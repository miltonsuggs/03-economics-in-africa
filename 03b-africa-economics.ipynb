{
 "cells": [
  {
   "cell_type": "markdown",
   "metadata": {},
   "source": [
    "<p  style=\"text-align: center;\"><font size=\"10\"><b>ECONOMICS IN 13 AFRICAN COUNTRIES</b></font></p>\n",
    "<p  style=\"text-align: center;\"><font size=\"4\">AN EXPLORATORY DATA ANALYSIS</font></p>\n",
    "\n",
    "This kernel looks at economics in 13 African countries from the year 1860 to 2014. By reviewing nine elements for each year, insight will gleaned into the countries' economic trends and potential influences. "
   ]
  },
  {
   "cell_type": "markdown",
   "metadata": {
    "tags": [
     "<meta",
     "name=\"image\"",
     "property=\"og:image\"",
     "content=\"[https://github.com/miltonsuggs/EDA_USA-Police-Shootings/blob/master/Don't%20Shoot.jpg?raw=true]\">"
    ]
   },
   "source": [
    "<img src=\"https://github.com/miltonsuggs/03-economics-in-africa/blob/master/africa_econ.jpg?raw=true\" alt=\"African Economy\" width=\"1200\" height=\"600\">  "
   ]
  },
  {
   "cell_type": "markdown",
   "metadata": {},
   "source": [
    "<a id=\"top\"></a>\n",
    "<h3 class=\"list-group-item list-group-item-action active\" data-toggle=\"list\"  role=\"tab\" aria-controls=\"home\">Table of Contents</h3>\n",
    "\n",
    "* <a href='#1'>LIBRARIES & PACKAGES</a>\n",
    "* <a href='#2'>DATA OVERVIEW & INSIGHTS</a>\n",
    "* <a href='#3'>MISSING DATA</a>\n",
    "* <a href='#4'>EXPLORATORY DATA ANALYSIS</a>\n",
    "* <a href='#5'>CONCLUSION</a>"
   ]
  },
  {
   "cell_type": "markdown",
   "metadata": {},
   "source": [
    "# <a id=\"1\">I. LIBRARIES & PACKAGES</a>"
   ]
  },
  {
   "cell_type": "code",
   "execution_count": null,
   "metadata": {
    "_cell_guid": "b1076dfc-b9ad-4769-8c92-a6c4dae69d19",
    "_uuid": "8f2839f25d086af736a60e9eeb907d3b93b6e0e5"
   },
   "outputs": [],
   "source": [
    "# This Python 3 environment comes with many helpful analytics libraries installed\n",
    "# It is defined by the kaggle/python Docker image: https://github.com/kaggle/docker-python\n",
    "# For example, here's several helpful packages to load\n",
    "\n",
    "import numpy as np # linear algebra\n",
    "import pandas as pd # data processing, CSV file I/O (e.g. pd.read_csv)\\import numpy as np \n",
    "import pandas as pd \n",
    "import os\n",
    "import seaborn as sns\n",
    "import matplotlib.pyplot as plt\n",
    "import plotly.express as px\n",
    "import plotly.graph_objects as go\n",
    "import plotly.figure_factory as ff\n",
    "from plotly.subplots import make_subplots\n",
    "import random\n",
    "\n",
    "# Input data files are available in the read-only \"../input/\" directory\n",
    "# For example, running this (by clicking run or pressing Shift+Enter) will list all files under the input directory\n",
    "\n",
    "import os\n",
    "for dirname, _, filenames in os.walk('/kaggle/input'):\n",
    "    for filename in filenames:\n",
    "        print(os.path.join(dirname, filename))\n",
    "\n",
    "# You can write up to 5GB to the current directory (/kaggle/working/) that gets preserved as output when you create a version using \"Save & Run All\" \n",
    "# You can also write temporary files to /kaggle/temp/, but they won't be saved outside of the current session"
   ]
  },
  {
   "cell_type": "markdown",
   "metadata": {},
   "source": [
    "# <a id='2'>II. DATA OVERVIEW & INSIGHTS</a>"
   ]
  },
  {
   "cell_type": "code",
   "execution_count": null,
   "metadata": {
    "_cell_guid": "79c7e3d0-c299-4dcb-8224-4455121ee9b0",
    "_uuid": "d629ff2d2480ee46fbb7e2d37f6b5fab8052498a"
   },
   "outputs": [],
   "source": [
    "df = pd.read_csv('/kaggle/input/africa-economic-banking-and-systemic-crisis-data/african_crises.csv')\n",
    "df.head()"
   ]
  },
  {
   "cell_type": "code",
   "execution_count": null,
   "metadata": {},
   "outputs": [],
   "source": [
    "df.columns"
   ]
  },
  {
   "cell_type": "code",
   "execution_count": null,
   "metadata": {},
   "outputs": [],
   "source": [
    "df.info()"
   ]
  },
  {
   "cell_type": "code",
   "execution_count": null,
   "metadata": {},
   "outputs": [],
   "source": [
    "df.describe()"
   ]
  },
  {
   "cell_type": "code",
   "execution_count": null,
   "metadata": {},
   "outputs": [],
   "source": [
    "df.shape"
   ]
  },
  {
   "cell_type": "code",
   "execution_count": null,
   "metadata": {},
   "outputs": [],
   "source": [
    "df['banking_crisis'] = df['banking_crisis'].replace({'crisis': 1, 'no_crisis':0})\n",
    "df.head(25)"
   ]
  },
  {
   "cell_type": "code",
   "execution_count": null,
   "metadata": {},
   "outputs": [],
   "source": [
    "unique_countries = df['country'].unique()\n",
    "unique_countries"
   ]
  },
  {
   "cell_type": "markdown",
   "metadata": {},
   "source": [
    "# <a id='3'>III. MISSING DATA</a>"
   ]
  },
  {
   "cell_type": "code",
   "execution_count": null,
   "metadata": {},
   "outputs": [],
   "source": [
    "missing_percentage = df.isna().sum()\n",
    "missing_percentage"
   ]
  },
  {
   "cell_type": "markdown",
   "metadata": {},
   "source": [
    "# <a id=\"4\">IV. EXPLORATORY DATA ANALYSIS</a>"
   ]
  },
  {
   "cell_type": "markdown",
   "metadata": {},
   "source": [
    "### AVERAGE EXCHANGE RATE BY COUNTRY\n",
    "\n"
   ]
  },
  {
   "cell_type": "code",
   "execution_count": null,
   "metadata": {},
   "outputs": [],
   "source": [
    "exch_avg = df.groupby(['country'])[['exch_usd']].agg('mean').sort_values('exch_usd').reset_index()\n",
    "exch_avg"
   ]
  },
  {
   "cell_type": "code",
   "execution_count": null,
   "metadata": {},
   "outputs": [],
   "source": [
    "fig = go.Figure(data=[go.Bar(x=exch_avg['country'], y=exch_avg['exch_usd'],\n",
    "                            name='Average Exchange Rate', marker_color='blue')])\n",
    "\n",
    "fig.update_xaxes(showline=True, linewidth=1, linecolor='black', mirror=True)\n",
    "fig.update_yaxes(showline=True, linewidth=1, linecolor='black', mirror=True)\n",
    "fig.update_layout(title_text='Average Exchange Rate by Country',xaxis_title='Countries',\n",
    "                 yaxis_title='Average Exchange Rate', title_x=0.5,barmode='stack')\n",
    "fig.show()"
   ]
  },
  {
   "cell_type": "markdown",
   "metadata": {},
   "source": [
    "### AVERAGE INFLATION RATE BY COUNTRY"
   ]
  },
  {
   "cell_type": "code",
   "execution_count": null,
   "metadata": {},
   "outputs": [],
   "source": [
    "infla_avg = df.groupby(['country'])[['inflation_annual_cpi']].agg('mean').sort_values('inflation_annual_cpi').reset_index()\n",
    "infla_avg"
   ]
  },
  {
   "cell_type": "code",
   "execution_count": null,
   "metadata": {},
   "outputs": [],
   "source": [
    "fig = go.Figure(data=[go.Bar(x=infla_avg['country'], y=infla_avg['inflation_annual_cpi'],\n",
    "                            name='Average Exchange Rate', marker_color='blue')])\n",
    "\n",
    "fig.update_xaxes(showline=True, linewidth=1, linecolor='black', mirror=True)\n",
    "fig.update_yaxes(showline=True, linewidth=1, linecolor='black', mirror=True)\n",
    "fig.update_layout(title_text='Average Inflation Rate by Country',xaxis_title='Countries',\n",
    "                 yaxis_title='Average Inflation Rate', title_x=0.5,barmode='stack')\n",
    "fig.show()"
   ]
  },
  {
   "cell_type": "markdown",
   "metadata": {},
   "source": [
    "### DATA CORRELATION"
   ]
  },
  {
   "cell_type": "code",
   "execution_count": null,
   "metadata": {},
   "outputs": [],
   "source": [
    "df.corr()"
   ]
  },
  {
   "cell_type": "code",
   "execution_count": null,
   "metadata": {},
   "outputs": [],
   "source": [
    "plt.figure(figsize = (8,6))\n",
    "sns.heatmap(df.corr())"
   ]
  },
  {
   "cell_type": "markdown",
   "metadata": {},
   "source": [
    "### COUNTRIES' EXCHANGE RATES BY YEAR\n",
    "\n",
    "Taking an indepth look at each contries' exchange rate over the years. The below collection of charts enable us to view the overall trends of movement in exchange rates for each country. \n",
    "\n",
    "A line of demarcation has been added to indicate when each country became independent. This will be helpful in determining if indendence had any impact on the exchange rate."
   ]
  },
  {
   "cell_type": "code",
   "execution_count": null,
   "metadata": {},
   "outputs": [],
   "source": [
    "sns.set(style='whitegrid')\n",
    "plt.figure(figsize=(20,35))\n",
    "plt.title('Exchange Rates of Countries')\n",
    "plot_number=1\n",
    "\n",
    "for country in unique_countries:\n",
    "    plt.subplot(7,2,plot_number)\n",
    "    plot_number+=1\n",
    "    color =\"#\"+''.join([random.choice('0123456789ABCDEF') for j in range(6)])\n",
    "    \n",
    "    plt.scatter(df[df.country==country]['year'],\n",
    "                df[df.country==country]['exch_usd'],\n",
    "                color=color,\n",
    "                s=20)\n",
    "    \n",
    "    sns.lineplot(df[df.country==country]['year'],\n",
    "                 df[df.country==country]['exch_usd'],\n",
    "                 label=country,\n",
    "                 color=color)\n",
    "    \n",
    "    plt.plot([np.min(df[np.logical_and(df.country==country,df.independence==1)]['year']),\n",
    "              np.min(df[np.logical_and(df.country==country,df.independence==1)]['year'])],\n",
    "             [0, np.max(df[df.country==country]['exch_usd'])],\n",
    "             color='black',\n",
    "             linestyle='dotted',\n",
    "             alpha=0.8)\n",
    "    \n",
    "    plt.text(np.min(df[np.logical_and(df.country==country,df.independence==1)]['year']),\n",
    "             np.max(df[df.country==country]['exch_usd'])/2,\n",
    "             'Independence',\n",
    "             rotation=-90)\n",
    "    \n",
    "    plt.scatter(x=np.min(df[np.logical_and(df.country==country,df.independence==1)]['year']),\n",
    "                y=0,\n",
    "                s=50)\n",
    "    \n",
    "    plt.title(country)\n",
    "    \n",
    "plt.tight_layout()\n",
    "plt.show()\n"
   ]
  },
  {
   "cell_type": "markdown",
   "metadata": {},
   "source": [
    "#### OBSERVATIONS\n",
    "\n",
    "The majority of countries display an upward trend of exchange rates starting in the latter half of the 20th century.\n",
    "\n",
    "Ivory Coast shows a dramatic decrease in the late 1990s. The same can be said for Tunisia in the late 1950s.\n",
    "\n",
    "<hr>"
   ]
  },
  {
   "cell_type": "markdown",
   "metadata": {},
   "source": [
    "### COUNTRIES' ANNUAL INFLATION RATE BY YEAR\n",
    "\n",
    "Taking an indepth look at each contries' inflation rate over the years. The below collection of charts enable us to view the overall trends of movement in inflation rates for each country. \n",
    "\n",
    "A line of demarcation has been added to indicate when each country became independent. This will be helpful in determining if indendence had any impact on the inflation rate. "
   ]
  },
  {
   "cell_type": "code",
   "execution_count": null,
   "metadata": {},
   "outputs": [],
   "source": [
    "sns.set(style='whitegrid')\n",
    "plt.figure(figsize=(20,35))\n",
    "plot_number=1\n",
    "\n",
    "for country in unique_countries:\n",
    "    plt.subplot(7,2,plot_number)\n",
    "    plot_number+=1\n",
    "    color =\"#\"+''.join([random.choice('0123456789ABCDEF') for j in range(6)])\n",
    "    \n",
    "    plt.scatter(df[df.country==country]['year'],\n",
    "                df[df.country==country]['inflation_annual_cpi'],\n",
    "                color=color,\n",
    "                s=20)\n",
    "    \n",
    "    sns.lineplot(df[df.country==country]['year'],\n",
    "                 df[df.country==country]['inflation_annual_cpi'],\n",
    "                 label=country,\n",
    "                 color=color)\n",
    "    \n",
    "    plt.plot([np.min(df[np.logical_and(df.country==country,df.independence==1)]['year']),\n",
    "              np.min(df[np.logical_and(df.country==country,df.independence==1)]['year'])],\n",
    "             [0, np.max(df[df.country==country]['inflation_annual_cpi'])],\n",
    "             color='black',\n",
    "             linestyle='dotted',\n",
    "             alpha=0.8)\n",
    "    \n",
    "    plt.text(np.min(df[np.logical_and(df.country==country,df.independence==1)]['year']),\n",
    "             np.max(df[df.country==country]['inflation_annual_cpi'])/2,\n",
    "             'Independence',\n",
    "             rotation=-90)\n",
    "    \n",
    "    plt.scatter(x=np.min(df[np.logical_and(df.country==country,df.independence==1)]['year']),\n",
    "                y=0,\n",
    "                s=50)\n",
    "    \n",
    "    plt.title(country)\n",
    "    \n",
    "plt.tight_layout()\n",
    "plt.show()"
   ]
  },
  {
   "cell_type": "markdown",
   "metadata": {},
   "source": [
    "### DEBT AND CRISIS TRACKER"
   ]
  },
  {
   "cell_type": "code",
   "execution_count": null,
   "metadata": {},
   "outputs": [],
   "source": [
    "sns.set(style='darkgrid')\n",
    "cols=['systemic_crisis','domestic_debt_in_default','sovereign_external_debt_default','currency_crises','inflation_crises','banking_crisis']\n",
    "plt.figure(figsize=(20,20))\n",
    "plot_num=1\n",
    "\n",
    "for col in cols:\n",
    "    plt.subplot(3,2,plot_num)\n",
    "    plot_num+=1\n",
    "    \n",
    "    sns.countplot(y=df.country,hue=df[col],palette='rocket')\n",
    "    \n",
    "    plt.legend(loc=0)\n",
    "    plt.title(col)\n",
    "    \n",
    "plt.tight_layout()\n",
    "plt.show()"
   ]
  },
  {
   "cell_type": "markdown",
   "metadata": {},
   "source": [
    "## SYSTEMIC CRISES CORRELATIONS\n",
    "\n",
    "We will take a closer look at the three countries with the highest values in each of the above crisis categories.\n",
    "\n",
    "Using line plots and scatter plots we'll make a visual comparison to determine if there may be a correlation with systemic crises. \n",
    "\n",
    "Each crisis category -- domestic debt, external debt, currency crisis, inflation crisis, and banking crisis -- will be represented by a line plot, while the sytemic crisis will be represented with orange scatter plots. \n",
    "\n",
    "The amount of overlap between the two will help indicate the type of correlation between each variable. A value of '1' means that a crisis was present, while a value of '0' means that no crisis was present."
   ]
  },
  {
   "cell_type": "markdown",
   "metadata": {},
   "source": [
    "### SYSTEMIC CRISIS VS BANKING CRISIS"
   ]
  },
  {
   "cell_type": "code",
   "execution_count": null,
   "metadata": {},
   "outputs": [],
   "source": [
    "fig,ax = plt.subplots(figsize=(20,10))\n",
    "\n",
    "sns.countplot(df['country'],hue=df['banking_crisis'],ax=ax)\n",
    "\n",
    "plt.xlabel('Countries')\n",
    "plt.ylabel('Counts')\n",
    "plt.xticks(rotation=45)"
   ]
  },
  {
   "cell_type": "code",
   "execution_count": null,
   "metadata": {},
   "outputs": [],
   "source": [
    "banking = df[['year', 'country', 'systemic_crisis', 'banking_crisis']]\n",
    "banking = banking[(banking['country'] == 'Central African Republic') | \n",
    "                    (banking['country'] == 'Nigeria') | (banking['country'] == 'Zimbabwe')]\n",
    "\n",
    "plt.figure(figsize=(20,15))\n",
    "count=1\n",
    "\n",
    "for country in banking.country.unique():\n",
    "    plt.subplot(len(banking.country.unique()), 1, count)\n",
    "    subset = banking[(banking['country'] == country)]\n",
    "    \n",
    "    sns.lineplot(subset['year'], subset['banking_crisis'])\n",
    "    plt.scatter(subset['year'], subset['systemic_crisis'], color='orange', label='Systemic Crisis')\n",
    "    \n",
    "    plt.subplots_adjust(hspace=0.6)\n",
    "    plt.xlabel('Years')\n",
    "    plt.ylabel('Banking Crisis/Systemic Crisis')\n",
    "    plt.title(country)\n",
    "    count+=1"
   ]
  },
  {
   "cell_type": "markdown",
   "metadata": {},
   "source": [
    "#### OBSERVATIONS\n",
    "\n",
    "There appears to be a significant overlap between banking crisis and systemic crisis. In all instances except for one in the country of Nigeria, where there was a banking crisis a systemic crisis was also present."
   ]
  },
  {
   "cell_type": "markdown",
   "metadata": {},
   "source": [
    "### DOMESTIC DEBT IN DEFAULT VS SYSTEMIC CRISIS\n",
    "\n"
   ]
  },
  {
   "cell_type": "code",
   "execution_count": null,
   "metadata": {},
   "outputs": [],
   "source": [
    "fig,ax = plt.subplots(figsize=(20,10))\n",
    "\n",
    "sns.countplot(df['country'],hue=df['domestic_debt_in_default'],ax=ax)\n",
    "\n",
    "plt.xlabel('Countries')\n",
    "plt.ylabel('Counts')\n",
    "plt.xticks(rotation=45)"
   ]
  },
  {
   "cell_type": "code",
   "execution_count": null,
   "metadata": {},
   "outputs": [],
   "source": [
    "domestic_debt = df[['year', 'country', 'domestic_debt_in_default', 'systemic_crisis']]\n",
    "domestic_debt = domestic_debt[(domestic_debt['country'] == 'Angola') | (domestic_debt['country'] == 'Zimbabwe')]\n",
    "\n",
    "plt.figure(figsize=(20,15))\n",
    "count=1\n",
    "\n",
    "for country in domestic_debt.country.unique():\n",
    "    plt.subplot(len(domestic_debt.country.unique()), 1, count)\n",
    "    subset = domestic_debt[(domestic_debt['country'] == country)]\n",
    "    \n",
    "    sns.lineplot(subset['year'], subset['domestic_debt_in_default'])\n",
    "    plt.scatter(subset['year'], subset['systemic_crisis'], color='orange', label='Systemic Crisis')\n",
    "    \n",
    "    plt.subplots_adjust(hspace=0.6)\n",
    "    plt.xlabel('Years')\n",
    "    plt.ylabel('Domestic Debt/Systemic Crisis')\n",
    "    plt.title(country)\n",
    "    count+=1"
   ]
  },
  {
   "cell_type": "markdown",
   "metadata": {},
   "source": [
    "#### OBSERVATIONS: \n",
    "\n",
    "With the exception of Zimbabwe in the early 2000s, there are very few instances of overlap between domestic debt in default and systemic crisis. While they both display a value of '0' throughout the majority of the timeline, in the instances where domestic debt in default is present a systemic crisis does not follow automatically. This indicates that domestic debt in default is not necessarily a causing factor of systemic crisis."
   ]
  },
  {
   "cell_type": "markdown",
   "metadata": {},
   "source": [
    "### SOVEREIGN EXTERNAL DEBT VS SYSTEMIC CRISIS"
   ]
  },
  {
   "cell_type": "code",
   "execution_count": null,
   "metadata": {},
   "outputs": [],
   "source": [
    "fig,ax = plt.subplots(figsize=(20,10))\n",
    "\n",
    "sns.countplot(df['country'],hue=df['sovereign_external_debt_default'],ax=ax)\n",
    "\n",
    "plt.xlabel('Countries')\n",
    "plt.ylabel('Counts')\n",
    "plt.xticks(rotation=45)"
   ]
  },
  {
   "cell_type": "code",
   "execution_count": null,
   "metadata": {},
   "outputs": [],
   "source": [
    "external_debt = df[['year', 'country', 'sovereign_external_debt_default', 'systemic_crisis']]\n",
    "external_debt = external_debt[(external_debt['country'] == 'Central African Republic') | \n",
    "                              (external_debt['country'] == 'Ivory Coast') |\n",
    "                              (external_debt['country'] == 'Zimbabwe')]\n",
    "\n",
    "plt.figure(figsize=(20,15))\n",
    "count=1\n",
    "\n",
    "for country in external_debt.country.unique():\n",
    "    plt.subplot(len(external_debt.country.unique()), 1, count)\n",
    "    subset = external_debt[(external_debt['country'] == country)]\n",
    "    \n",
    "    sns.lineplot(subset['year'], subset['sovereign_external_debt_default'])\n",
    "    plt.scatter(subset['year'], subset['systemic_crisis'], color='orange', label='Systemic Crisis')\n",
    "    \n",
    "    plt.subplots_adjust(hspace=0.6)\n",
    "    plt.xlabel('Years')\n",
    "    plt.ylabel('External Debt/Systemic Crisis')\n",
    "    plt.title(country)\n",
    "    count+=1"
   ]
  },
  {
   "cell_type": "markdown",
   "metadata": {},
   "source": [
    "### CURRENCY CRISES VS BANKING CRISIS"
   ]
  },
  {
   "cell_type": "code",
   "execution_count": null,
   "metadata": {},
   "outputs": [],
   "source": [
    "fig,ax = plt.subplots(figsize=(20,10))\n",
    "\n",
    "sns.countplot(df['country'],hue=df['currency_crises'],ax=ax)\n",
    "\n",
    "plt.xlabel('Countries')\n",
    "plt.ylabel('Counts')\n",
    "plt.xticks(rotation=45)"
   ]
  },
  {
   "cell_type": "code",
   "execution_count": null,
   "metadata": {},
   "outputs": [],
   "source": [
    "currency = df[['year', 'country', 'currency_crises', 'systemic_crisis']]\n",
    "currency = currency[(currency['country'] == 'Angola') | \n",
    "                              (currency['country'] == 'Zambia') |\n",
    "                              (currency['country'] == 'Zimbabwe')]\n",
    "currency = currency.replace(to_replace=2, value=1, regex=False)\n",
    "\n",
    "\n",
    "plt.figure(figsize=(20,15))\n",
    "count=1\n",
    "\n",
    "for country in currency.country.unique():\n",
    "    plt.subplot(len(currency.country.unique()), 1, count)\n",
    "    subset = currency[(currency['country'] == country)]\n",
    "    \n",
    "    sns.lineplot(subset['year'], subset['currency_crises'])\n",
    "    plt.scatter(subset['year'], subset['systemic_crisis'], color='orange', label='Systemic Crisis')\n",
    "    \n",
    "    plt.subplots_adjust(hspace=0.6)\n",
    "    plt.xlabel('Years')\n",
    "    plt.ylabel('Currency Crisis/Systemic Crisis')\n",
    "    plt.title(country)\n",
    "    count+=1"
   ]
  },
  {
   "cell_type": "markdown",
   "metadata": {},
   "source": [
    "### INFLATION CRISES VS BANKING CRISIS"
   ]
  },
  {
   "cell_type": "code",
   "execution_count": null,
   "metadata": {},
   "outputs": [],
   "source": [
    "fig,ax = plt.subplots(figsize=(20,10))\n",
    "\n",
    "sns.countplot(df['country'],hue=df['inflation_crises'],ax=ax)\n",
    "\n",
    "plt.xlabel('Countries')\n",
    "plt.ylabel('Counts')\n",
    "plt.xticks(rotation=45)"
   ]
  },
  {
   "cell_type": "code",
   "execution_count": null,
   "metadata": {},
   "outputs": [],
   "source": [
    "inflation = df[['year', 'country', 'inflation_crises', 'systemic_crisis']]\n",
    "inflation = inflation[(inflation['country'] == 'Angola') | \n",
    "                              (inflation['country'] == 'Zambia') |\n",
    "                              (inflation['country'] == 'Zimbabwe')]\n",
    "\n",
    "plt.figure(figsize=(20,15))\n",
    "count=1\n",
    "\n",
    "for country in inflation.country.unique():\n",
    "    plt.subplot(len(inflation.country.unique()), 1, count)\n",
    "    subset = inflation[(inflation['country'] == country)]\n",
    "    \n",
    "    sns.lineplot(subset['year'], subset['inflation_crises'])\n",
    "    plt.scatter(subset['year'], subset['systemic_crisis'], color='orange', label='Systemic Crisis')\n",
    "    \n",
    "    plt.subplots_adjust(hspace=0.6)\n",
    "    plt.xlabel('Years')\n",
    "    plt.ylabel('Inflation Crisis/Systemic Crisis')\n",
    "    plt.title(country)\n",
    "    count+=1"
   ]
  },
  {
   "cell_type": "markdown",
   "metadata": {},
   "source": [
    "# <a id='5'>CONCLUSION</a>\n",
    "\n",
    "While banking crisis and systemic crisis are very strongly correlated, no other individual crisis or economic phenomenon such as debt in default can be solely linked to the presence of a systemic crisis. Using a different model, we may be able to determine which factors are more strongly related to systemic crisis. \n",
    "\n",
    "I will circle back to this kernel at a later date to do some data modeling and predictive analysis. \n",
    "\n",
    "Thanks for stopping by!"
   ]
  }
 ],
 "metadata": {
  "kernelspec": {
   "display_name": "Python 3",
   "language": "python",
   "name": "python3"
  },
  "language_info": {
   "codemirror_mode": {
    "name": "ipython",
    "version": 3
   },
   "file_extension": ".py",
   "mimetype": "text/x-python",
   "name": "python",
   "nbconvert_exporter": "python",
   "pygments_lexer": "ipython3",
   "version": "3.8.3"
  }
 },
 "nbformat": 4,
 "nbformat_minor": 4
}
